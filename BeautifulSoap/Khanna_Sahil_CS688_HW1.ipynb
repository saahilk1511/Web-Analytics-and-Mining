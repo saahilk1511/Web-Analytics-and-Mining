{
 "cells": [
  {
   "cell_type": "markdown",
   "id": "71461903",
   "metadata": {},
   "source": [
    "##### CS688 Assignment 1\n",
    "##### @author: Sahil Khanna\n",
    "##### BU ID: U86445364\n",
    "##### Created on: Sept 11, 2021"
   ]
  },
  {
   "cell_type": "code",
   "execution_count": 4,
   "id": "a9ba72f6",
   "metadata": {},
   "outputs": [],
   "source": [
    "import requests\n",
    "import bs4\n",
    "import pandas as pd\n",
    "import re\n",
    "import seaborn as sns\n",
    "import matplotlib.pyplot as plt\n",
    "%matplotlib inline"
   ]
  },
  {
   "cell_type": "code",
   "execution_count": 5,
   "id": "5e02ab8d",
   "metadata": {},
   "outputs": [
    {
     "name": "stdout",
     "output_type": "stream",
     "text": [
      "\n",
      " FDA vaccine regulators argue against Covid vaccine boosters in new paperSTAT7 hours agobookmark_bordersharemore_vertCOVID-19 vaccine boosters unnecessary for most, say FDA advisers reportedly resigning over issueFox News5 hours agobookmark_bordersharemore_vertCOVID vaccine booster shots: Who can get them when is still uncertainUSA TODAY11 hours agobookmark_bordersharemore_vertWhen can kids under 12 get a COVID-19 vaccine? CDC Director Walensky has an answerMarketWatch1 hour agobookmark_bordersharemore_vertCOVID-19 vaccines could be approved for kids 5-11 by end of October, Gottlieb saysCBS News9 hours agobookmark_bordersharemore_vertView Full Coveragekeyboard_arrow_up\n",
      "\n",
      " Congress exempt from Biden’s COVID-19 vaccine mandateFox News5 hours agobookmark_bordersharemore_vert\n",
      "\n",
      " COVID-19 Vaccine ResponseCancer Health Treatment News6 hours agobookmark_bordersharemore_vert\n",
      "\n",
      " 'We want to win': Lawsuit alleging COVID-19 vaccine conspiracy by hospitals dropped againThe Cincinnati Enquirer3 hours agobookmark_bordersharemore_vert\n",
      "\n",
      " It may take 'many, many' more vaccine mandates to end the Covid-19 pandemic, Fauci saysCNN4 hours agobookmark_bordersharemore_vert\n",
      "\n",
      " NY hospital to pause baby deliveries after resignations over Covid-19 vaccine mandateCNN5 hours agobookmark_bordersharemore_vert\n",
      "\n",
      " New York City now enforcing Covid-19 vaccine requirement for most indoor activitiesCNN2 hours agobookmark_bordersharemore_vert\n",
      "\n",
      " 1 in 7 people have dumped their friends over COVID-19 vaccine stanceNEWS10 ABC3 hours agobookmark_bordersharemore_vert\n",
      "\n",
      " After long delay, Congo's Tshisekedi receives COVID-19 vaccineReuters6 hours agobookmark_bordersharemore_vert\n",
      "\n",
      " England cancels plans for COVID-19 vaccine passports: health officialFox NewsYesterdaybookmark_bordersharemore_vert\n",
      "\n",
      " Where employers are requiring COVID-19 vaccines, some workers weigh hesitancy against their paycheckPittsburgh Post-Gazette11 hours agobookmark_bordersharemore_vert\n",
      "\n",
      " FDA Approves First COVID-19 Vaccine | FDAFDA.govAug 23bookmark_bordersharemore_vert\n",
      "\n",
      " Age, arterial hypertension predicts COVID-19 vaccine response in LT patientsHealio5 hours agobookmark_bordersharemore_vert\n",
      "\n",
      " Why N.B.A. Referees Agreed to a Covid-19 Vaccine MandateThe New York Times54 minutes agobookmark_bordersharemore_vert\n",
      "\n",
      " Navy assistant coach Billy Ray Stutzmann fired after failing to receive exemption for COVID-19 vaccineCBS Sports1 hour agobookmark_bordersharemore_vert\n",
      "\n",
      " Former North Charleston first responders sue city over COVID-19 vaccine mandateWCBD News 21 hour agobookmark_bordersharemore_vert\n",
      "\n",
      " Valneva Stock Plunges as U.K. Drops Covid-19 Vaccine DealBarron's7 hours agobookmark_bordersharemore_vert\n",
      "\n",
      " Federal appeals court denies IU request to dismiss COVID-19 vaccine mandate lawsuitWTHR5 hours agobookmark_bordersharemore_vert\n",
      "\n",
      " Biden’s Covid-19 Vaccine Mandate Further Stresses Supply of Rapid TestsThe Wall Street JournalYesterdaybookmark_bordersharemore_vert\n",
      "\n",
      " Florida cities, counties that mandate COVID-19 vaccine for government employees will face fines, Gov. Ron DeSantis saysWPTV.com4 hours agobookmark_bordersharemore_vert\n",
      "\n",
      " Blue Jackets part ways with assistant Sylvain Lefebvre over COVID-19 vaccination refusalThe Columbus Dispatch3 hours agobookmark_bordersharemore_vert\n",
      "\n",
      " ECMC Medical Minute - Dr. Emeka Ukwuoma - COVID19 Vaccine Availability - 09/03/21ecmc.edu7 days agobookmark_bordersharemore_vert\n",
      "\n",
      " Phony COVID-19 vaccine card prices double following Biden mandate announcementTechRepublic6 hours agobookmark_bordersharemore_vert\n",
      "\n",
      " WHO congratulates India for administering over 75 crore Covid-19 vaccine dosesHindustan Times6 hours agobookmark_bordersharemore_vert\n",
      "\n",
      " Virginia Health Departments preparing for latest Pfizer COVID-19 vaccine approvalWWBT NBC12 News2 hours agobookmark_bordersharemore_vert\n",
      "\n",
      " The latest on the Covid-19 pandemic in the USCNN7 hours agobookmark_bordersharemore_vert\n",
      "\n",
      " Lost Your COVID-19 Vaccine Card? The MDHHS Can HelpCBS Detroit43 minutes agobookmark_bordersharemore_vert\n",
      "\n",
      " Hundreds call on Gov. Reynolds to ban COVID-19 vaccine mandatesKCRG9 hours agobookmark_bordersharemore_vert\n",
      "\n",
      " LAPD officers file federal lawsuit in attempt to overturn COVID-19 vaccine mandateKTLA Los Angeles2 hours agobookmark_bordersharemore_vert\n",
      "\n",
      " Health Officials Urge North Carolinians to Get Vaccinated for Flu as COVID-19 Cases Remain High | NCDHHSNCDHHS3 hours agobookmark_bordersharemore_vert\n",
      "\n",
      " Mount St. Joseph University announces vaccine requirement for all students and staffThe Cincinnati Enquirer4 hours agobookmark_bordersharemore_vert\n",
      "\n",
      " Iowa Health Care Association pushes back against federal COVID-19 vaccine mandate, calls for test-out optionkwwl.com3 hours agobookmark_bordersharemore_vert\n",
      "\n",
      " UPMC participating in Moderna's COVID-19 vaccine trials for young children, hoping for 'early 2022' release | Family First with FOX43FOX43.com7 hours agobookmark_bordersharemore_vert\n",
      "\n",
      " COVID-19 Report for Sept. 13, 2021oswegocounty.com32 minutes agobookmark_bordersharemore_vert\n",
      "\n",
      " Effectiveness of Covid-19 Vaccines in Ambulatory and Inpatient Care Settingsnejm.org5 days agobookmark_bordersharemore_vert\n",
      "\n",
      " US expected to recommend Covid-19 vaccine booster shots for allSTATAug 17bookmark_bordersharemore_vert\n",
      "\n",
      " President Biden's COVID-19 PlanWhitehouse.gov4 days agobookmark_bordersharemore_vert\n",
      "\n",
      " South Africa mulls vaccine passports as Covid-19 restrictions are easedCNN6 hours agobookmark_bordersharemore_vert\n",
      "\n",
      " Covid-19 vaccines flirted with perfection. Reality is more complicatedSTATAug 25bookmark_bordersharemore_vert\n",
      "\n",
      " Pfizer COVID-19 vaccine kids trial: Why I enrolled my baby, toddlerInsider3 hours agobookmark_bordersharemore_vert\n",
      "\n",
      " Work in the Covid-19 Era: What the Numbers Say About Vaccine Mandates, Quitting and MoreThe Wall Street Journal16 hours agobookmark_bordersharemore_vert\n",
      "\n",
      " Iowa 80 Truckstop to host COVID-19 vaccine clinicAmerican Trucker56 minutes agobookmark_bordersharemore_vert\n",
      "\n",
      " CDC: Covid-19 Vaccine Effectiveness Fell From 91% To 66% With Delta VariantForbesAug 24bookmark_bordersharemore_vert\n",
      "\n",
      " Seriously ill COVID-19 patients double in vaccine pace-setter SingaporeReuters8 hours agobookmark_bordersharemore_vert\n",
      "\n",
      " Additional Pop-Up COVID-19 Vaccine Clinics and Testing in Union County in September – New ProvidenceNew Providence3 days agobookmark_bordersharemore_vert\n",
      "\n",
      " Polis, health officials provide update on state's COVID-19 response9News.com KUSA4 hours agobookmark_bordersharemore_vert\n",
      "\n",
      " The Importance of Context in Covid-19 Vaccine Safetynejm.orgAug 25bookmark_bordersharemore_vert\n",
      "\n",
      " The Delta Variant Is Causing Concern Over Long COVID, Even For The Vaccinated : Shots - Health NewsNPR6 hours agobookmark_bordersharemore_vert\n",
      "\n",
      " Idaho's Hospitals Are Overwhelmed, But Many Locals Remain Skeptical Of VaccinesNPRYesterdaybookmark_bordersharemore_vert\n",
      "\n",
      " Vaccine mandate spawns new fear: finding and keeping workerslatrobebulletinnews.com10 hours agobookmark_bordersharemore_vert\n"
     ]
    }
   ],
   "source": [
    "# Question 1.a\n",
    "\n",
    "res = requests.get(\"https://news.google.com/search?q=Covid19%20Vaccine\")\n",
    "soup = bs4.BeautifulSoup(res.text,\"lxml\")\n",
    "articles = [] \n",
    "for i in range(0,50): \n",
    "    a = soup.select('.xrnccd')[i].getText()\n",
    "    articles.append(a)\n",
    "    \n",
    "for i in range(0,len(articles)):\n",
    "    print(\"\\n\",articles[i])"
   ]
  },
  {
   "cell_type": "code",
   "execution_count": 6,
   "id": "f362bace",
   "metadata": {},
   "outputs": [],
   "source": [
    "# Question 2\n",
    "\n",
    "df = pd.DataFrame(articles)\n",
    "df.to_csv(\"Covid19_articles.csv\",index=False)"
   ]
  },
  {
   "cell_type": "code",
   "execution_count": 7,
   "id": "46462872",
   "metadata": {},
   "outputs": [],
   "source": [
    "# Question 3"
   ]
  },
  {
   "cell_type": "code",
   "execution_count": 8,
   "id": "feb766b0",
   "metadata": {},
   "outputs": [],
   "source": [
    "words = [\"side effect\", \"Pain\", \"Booster\", \"vaccine\"]"
   ]
  },
  {
   "cell_type": "code",
   "execution_count": 9,
   "id": "d838945b",
   "metadata": {},
   "outputs": [
    {
     "name": "stdout",
     "output_type": "stream",
     "text": [
      "side effect appeared 0 times\n",
      "Pain appeared 0 times\n",
      "Booster appeared 2 times\n",
      "vaccine appeared 43 times\n"
     ]
    }
   ],
   "source": [
    "word_count = {}\n",
    "for j in words:\n",
    "    sum1 = 0\n",
    "    for i in range(0,len(articles)):\n",
    "        if(re.findall(j.lower(), str(articles[i]).lower())):\n",
    "            sum1 += 1\n",
    "    word_count[j] = (sum1)\n",
    "    print(\"{} appeared {} times\".format(j, sum1))"
   ]
  },
  {
   "cell_type": "code",
   "execution_count": 10,
   "id": "10e8e879",
   "metadata": {},
   "outputs": [
    {
     "name": "stdout",
     "output_type": "stream",
     "text": [
      "{'side effect': 0, 'Pain': 0, 'Booster': 2, 'vaccine': 43}\n"
     ]
    }
   ],
   "source": [
    "print(word_count)"
   ]
  },
  {
   "cell_type": "code",
   "execution_count": 11,
   "id": "d04613cc",
   "metadata": {},
   "outputs": [
    {
     "data": {
      "image/png": "[encoded data removed]",
      "text/plain": [
       "<Figure size 1080x504 with 1 Axes>"
      ]
     },
     "metadata": {
      "needs_background": "light"
     },
     "output_type": "display_data"
    }
   ],
   "source": [
    "plt.figure(figsize = (15,7))\n",
    "sns.barplot(x = list(word_count.keys()), y = list(word_count.values()))\n",
    "plt.title(\"Word frequency\")\n",
    "plt.ylabel(\"Count of words\")\n",
    "plt.show()"
   ]
  },
  {
   "cell_type": "code",
   "execution_count": null,
   "id": "f3d68aa0",
   "metadata": {},
   "outputs": [],
   "source": []
  },
  {
   "cell_type": "code",
   "execution_count": null,
   "id": "218e868b",
   "metadata": {},
   "outputs": [],
   "source": []
  }
 ],
 "metadata": {
  "kernelspec": {
   "display_name": "Python 3 (ipykernel)",
   "language": "python",
   "name": "python3"
  },
  "language_info": {
   "codemirror_mode": {
    "name": "ipython",
    "version": 3
   },
   "file_extension": ".py",
   "mimetype": "text/x-python",
   "name": "python",
   "nbconvert_exporter": "python",
   "pygments_lexer": "ipython3",
   "version": "3.9.7"
  }
 },
 "nbformat": 4,
 "nbformat_minor": 5
}
